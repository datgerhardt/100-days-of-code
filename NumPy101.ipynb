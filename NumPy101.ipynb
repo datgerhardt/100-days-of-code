{
  "nbformat": 4,
  "nbformat_minor": 0,
  "metadata": {
    "colab": {
      "name": "NumPy101.ipynb",
      "provenance": [],
      "authorship_tag": "ABX9TyOKISWqr7f/CTrEQ1ttpflH",
      "include_colab_link": true
    },
    "kernelspec": {
      "name": "python3",
      "display_name": "Python 3"
    },
    "language_info": {
      "name": "python"
    }
  },
  "cells": [
    {
      "cell_type": "markdown",
      "metadata": {
        "id": "view-in-github",
        "colab_type": "text"
      },
      "source": [
        "<a href=\"https://colab.research.google.com/github/datgerhardt/100-days-of-code/blob/master/NumPy101.ipynb\" target=\"_parent\"><img src=\"https://colab.research.google.com/assets/colab-badge.svg\" alt=\"Open In Colab\"/></a>"
      ]
    },
    {
      "cell_type": "markdown",
      "metadata": {
        "id": "VdWrdiM7Qfew"
      },
      "source": [
        "# NumPy Basics "
      ]
    },
    {
      "cell_type": "code",
      "metadata": {
        "id": "2jECQrwDPKe3"
      },
      "source": [
        "import numpy as np"
      ],
      "execution_count": 2,
      "outputs": []
    },
    {
      "cell_type": "code",
      "metadata": {
        "id": "IQHZd-6DPnuL"
      },
      "source": [
        "np.random.seed(seed=1234) # set seed for reproducibility"
      ],
      "execution_count": 3,
      "outputs": []
    },
    {
      "cell_type": "code",
      "metadata": {
        "colab": {
          "base_uri": "https://localhost:8080/"
        },
        "id": "vA2Rbw41Q4Vo",
        "outputId": "75063b70-a225-413e-ffea-6569300e7184"
      },
      "source": [
        "# Scalar \n",
        "x= np.array(6)\n",
        "print(\"x: \", x)\n",
        "print(\"x ndim: \", x.ndim) # num of dimensions\n",
        "print(\"x shape: \", x.shape) # dimensions\n",
        "print(\"x size: \", x.size) # size of element\n",
        "print(\"x dtype: \", x.dtype) # data type "
      ],
      "execution_count": 4,
      "outputs": [
        {
          "output_type": "stream",
          "text": [
            "x:  6\n",
            "x ndim:  0\n",
            "x shape:  ()\n",
            "x size:  1\n",
            "x dtype:  int64\n"
          ],
          "name": "stdout"
        }
      ]
    },
    {
      "cell_type": "code",
      "metadata": {
        "colab": {
          "base_uri": "https://localhost:8080/"
        },
        "id": "ZGkjrg7lR2YT",
        "outputId": "67da65cf-3c5c-462e-a197-3d6d035f98e0"
      },
      "source": [
        "# Vector\n",
        "x = np.array([1.3, 2.2, 17])\n",
        "print(\"x: \", x)\n",
        "print(\"x ndim: \", x.ndim) \n",
        "print(\"x shape: \", x.shape)\n",
        "print(\"x size: \", x.size) \n",
        "print(\"x dtype: \", x.dtype) # data type "
      ],
      "execution_count": 5,
      "outputs": [
        {
          "output_type": "stream",
          "text": [
            "x:  [ 1.3  2.2 17. ]\n",
            "x ndim:  1\n",
            "x shape:  (3,)\n",
            "x size:  3\n",
            "x dtype:  float64\n"
          ],
          "name": "stdout"
        }
      ]
    },
    {
      "cell_type": "code",
      "metadata": {
        "id": "tRCl_C5qSPbN"
      },
      "source": [
        ""
      ],
      "execution_count": null,
      "outputs": []
    }
  ]
}